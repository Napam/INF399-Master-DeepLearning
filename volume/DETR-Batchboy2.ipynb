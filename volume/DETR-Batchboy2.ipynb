{
 "cells": [
  {
   "cell_type": "code",
   "execution_count": 2,
   "id": "micro-waste",
   "metadata": {},
   "outputs": [],
   "source": [
    "from typing import Generic, Optional, Tuple, List, Callable, Iterable, Mapping\n",
    "\n",
    "import numpy as np\n",
    "from torchvision.models import resnet50\n",
    "import torch\n",
    "import torch.nn as nn\n",
    "import torch.nn.functional as F\n",
    "import torchvision.transforms as T\n",
    "import utils\n",
    "from utils import debugt, debugs, debug\n",
    "\n",
    "torch.hub.set_dir('torch_cache')\n",
    "import fishdetr_batchboy as detr\n",
    "import contextlib\n",
    "from generators import TorchStereoDataset\n",
    "import re\n",
    "from matplotlib import pyplot as plt\n",
    "import plotly.express as px\n",
    "\n",
    "import sys\n",
    "sys.path.append('./detr_custom/')\n",
    "from models.matcher import HungarianMatcher\n",
    "from models.detr import SetCriterion\n",
    "import os"
   ]
  },
  {
   "cell_type": "code",
   "execution_count": 3,
   "id": "solved-lloyd",
   "metadata": {},
   "outputs": [],
   "source": [
    "DATA_DIR = '/mnt/blendervol/leftright_left_data'\n",
    "TABLE = 'bboxes_std'\n",
    "BATCH_SIZE = 8"
   ]
  },
  {
   "cell_type": "code",
   "execution_count": 5,
   "id": "southwest-workplace",
   "metadata": {},
   "outputs": [],
   "source": [
    "traingen = TorchStereoDataset(DATA_DIR, TABLE, shuffle=False, imgnrs=range(8,8+BATCH_SIZE))\n",
    "loader = torch.utils.data.DataLoader(\n",
    "    traingen,\n",
    "    batch_size=BATCH_SIZE,\n",
    "    collate_fn=detr.collate\n",
    ")\n",
    "\n",
    "X, y = next(iter(loader))"
   ]
  },
  {
   "cell_type": "code",
   "execution_count": 10,
   "id": "explicit-driving",
   "metadata": {},
   "outputs": [
    {
     "name": "stdout",
     "output_type": "stream",
     "text": [
      "\u001b[32m(1, <module>)\u001b[0m \u001b[2mX[0]\u001b[0m: torch.Size([8, 3, 416, 416])\n",
      "\u001b[32m(2, <module>)\u001b[0m \u001b[2mX[1]\u001b[0m: torch.Size([8, 3, 416, 416])\n"
     ]
    }
   ],
   "source": [
    "debugs(X[0])\n",
    "debugs(X[1])"
   ]
  }
 ],
 "metadata": {
  "kernelspec": {
   "display_name": "Python 3",
   "language": "python",
   "name": "python3"
  },
  "language_info": {
   "codemirror_mode": {
    "name": "ipython",
    "version": 3
   },
   "file_extension": ".py",
   "mimetype": "text/x-python",
   "name": "python",
   "nbconvert_exporter": "python",
   "pygments_lexer": "ipython3",
   "version": "3.8.3"
  }
 },
 "nbformat": 4,
 "nbformat_minor": 5
}
