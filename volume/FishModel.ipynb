{
 "cells": [
  {
   "cell_type": "code",
   "execution_count": 25,
   "metadata": {},
   "outputs": [],
   "source": [
    "import numpy as np\n",
    "import matplotlib.pyplot as plt\n",
    "import torch\n",
    "import torchvision\n",
    "import torchvision.transforms as transforms\n",
    "import torch.nn as nn\n",
    "import torch.nn.functional as F\n",
    "import torch.optim as optim\n",
    "from tqdm import tqdm\n",
    "from typing import Iterable, Sequence, Tuple, List, Union, Optional\n",
    "import sys"
   ]
  },
  {
   "cell_type": "code",
   "execution_count": 26,
   "metadata": {},
   "outputs": [
    {
     "data": {
      "text/plain": [
       "device(type='cuda', index=1)"
      ]
     },
     "execution_count": 26,
     "metadata": {},
     "output_type": "execute_result"
    }
   ],
   "source": [
    "def pytorch_init():\n",
    "    device_id = 1\n",
    "    torch.cuda.set_device(device_id)\n",
    "    \n",
    "    # Sanity checks\n",
    "    assert torch.cuda.current_device() == 1, 'Using wrong GPU'\n",
    "    assert torch.cuda.device_count() == 2, 'Cannot find both GPUs'\n",
    "    assert torch.cuda.get_device_name(0) == 'GeForce RTX 2080 Ti', 'Wrong GPU name'\n",
    "    assert torch.cuda.is_available() == True, 'GPU not available'\n",
    "    return torch.device('cuda', device_id)\n",
    "    \n",
    "device = pytorch_init()\n",
    "device"
   ]
  },
  {
   "cell_type": "code",
   "execution_count": 27,
   "metadata": {},
   "outputs": [
    {
     "name": "stdout",
     "output_type": "stream",
     "text": [
      "X_l: torch.Size([2, 3, 416, 416])\n",
      " \r",
      "X_r: torch.Size([2, 3, 416, 416])\n"
     ]
    }
   ],
   "source": [
    "img_size = (416, 416)\n",
    "batch_size = 2\n",
    "n_channels = 3\n",
    "\n",
    "X_l = torch.randn(batch_size, n_channels, *img_size, device=device)\n",
    "X_r = torch.randn(batch_size, n_channels, *img_size, device=device)\n",
    "\n",
    "print(\n",
    "    f'X_l: {X_l.shape}\\n',\n",
    "    f'\\rX_r: {X_r.shape}'\n",
    ")"
   ]
  },
  {
   "cell_type": "code",
   "execution_count": 92,
   "metadata": {},
   "outputs": [],
   "source": [
    "class EncoderBlock(nn.Module):\n",
    "    def __init__(self, \n",
    "            in_channels: int, \n",
    "            out_channels: int, \n",
    "            kernel_size: int,\n",
    "            padding: Optional[int] = None,\n",
    "            **kwargs\n",
    "        ) -> None:\n",
    "        '''Defaults to same padding'''\n",
    "        \n",
    "        super().__init__()\n",
    "        \n",
    "        if padding is None:\n",
    "            padding = int(kernel_size // 2)\n",
    "        \n",
    "        self.layers = nn.Sequential(\n",
    "            nn.Conv2d(\n",
    "                in_channels=in_channels, \n",
    "                out_channels=out_channels, \n",
    "                kernel_size=kernel_size, \n",
    "                padding=padding, \n",
    "                **kwargs\n",
    "            ),\n",
    "            nn.MaxPool2d(kernel_size=2, stride=2),\n",
    "            nn.ReLU(inplace=True),\n",
    "            nn.BatchNorm2d(num_features=out_channels),\n",
    "        )\n",
    "        \n",
    "    def forward(self, x):\n",
    "        return self.layers(x)\n",
    "        \n",
    "\n",
    "class Encoder(nn.Module):\n",
    "    def __init__(self) -> None:\n",
    "        super().__init__()\n",
    "        \n",
    "        self.blocks = nn.Sequential(\n",
    "            EncoderBlock( 3, 96, 7),\n",
    "            EncoderBlock(96, 32, 5),\n",
    "            EncoderBlock(32, 32, 3),\n",
    "        )\n",
    "        \n",
    "        self.latent = EncoderBlock(32*2, 16, 1)\n",
    "        \n",
    "    def forward(self, x: Tuple[torch.Tensor, torch.Tensor]):\n",
    "        left, right = self.blocks(x[0]), self.blocks(x[1])\n",
    "        latent = self.latent(torch.cat((left, right), dim=1))\n",
    "        return latent"
   ]
  },
  {
   "cell_type": "code",
   "execution_count": 93,
   "metadata": {},
   "outputs": [],
   "source": [
    "class Decoder(nn.Module):\n",
    "    def __init__(self):\n",
    "        super().__init__()\n",
    "        self.decoder_block = nn.Sequential(\n",
    "            nn.Linear(in_features=16*26*26, out_features=100),\n",
    "            nn.ReLU(inplace=True),\n",
    "            nn.Linear(in_features=100, out_features=10),\n",
    "        )\n",
    "        \n",
    "    def forward(self, x: torch.Tensor):\n",
    "        return self.decoder_block(x)"
   ]
  },
  {
   "cell_type": "code",
   "execution_count": 94,
   "metadata": {},
   "outputs": [],
   "source": [
    "class FishNet(nn.Module):\n",
    "    def __init__(self):\n",
    "        super().__init__()\n",
    "        \n",
    "        self.encoder = Encoder()\n",
    "        self.decoder = Decoder()\n",
    "        \n",
    "    def forward(self, x: Tuple[torch.Tensor, torch.Tensor]):\n",
    "        x = self.encoder(x)\n",
    "        # .size is same as reshape\n",
    "        # .size(0) is respective to batch size\n",
    "        x = x.view(x.size(0), -1)\n",
    "        x = self.decoder(x)\n",
    "        return x"
   ]
  },
  {
   "cell_type": "code",
   "execution_count": 95,
   "metadata": {},
   "outputs": [
    {
     "data": {
      "text/plain": [
       "FishNet(\n",
       "  (encoder): Encoder(\n",
       "    (blocks): Sequential(\n",
       "      (0): EncoderBlock(\n",
       "        (layers): Sequential(\n",
       "          (0): Conv2d(3, 96, kernel_size=(7, 7), stride=(1, 1), padding=(3, 3))\n",
       "          (1): MaxPool2d(kernel_size=2, stride=2, padding=0, dilation=1, ceil_mode=False)\n",
       "          (2): ReLU(inplace=True)\n",
       "          (3): BatchNorm2d(96, eps=1e-05, momentum=0.1, affine=True, track_running_stats=True)\n",
       "        )\n",
       "      )\n",
       "      (1): EncoderBlock(\n",
       "        (layers): Sequential(\n",
       "          (0): Conv2d(96, 32, kernel_size=(5, 5), stride=(1, 1), padding=(2, 2))\n",
       "          (1): MaxPool2d(kernel_size=2, stride=2, padding=0, dilation=1, ceil_mode=False)\n",
       "          (2): ReLU(inplace=True)\n",
       "          (3): BatchNorm2d(32, eps=1e-05, momentum=0.1, affine=True, track_running_stats=True)\n",
       "        )\n",
       "      )\n",
       "      (2): EncoderBlock(\n",
       "        (layers): Sequential(\n",
       "          (0): Conv2d(32, 32, kernel_size=(3, 3), stride=(1, 1), padding=(1, 1))\n",
       "          (1): MaxPool2d(kernel_size=2, stride=2, padding=0, dilation=1, ceil_mode=False)\n",
       "          (2): ReLU(inplace=True)\n",
       "          (3): BatchNorm2d(32, eps=1e-05, momentum=0.1, affine=True, track_running_stats=True)\n",
       "        )\n",
       "      )\n",
       "    )\n",
       "    (latent): EncoderBlock(\n",
       "      (layers): Sequential(\n",
       "        (0): Conv2d(64, 16, kernel_size=(1, 1), stride=(1, 1))\n",
       "        (1): MaxPool2d(kernel_size=2, stride=2, padding=0, dilation=1, ceil_mode=False)\n",
       "        (2): ReLU(inplace=True)\n",
       "        (3): BatchNorm2d(16, eps=1e-05, momentum=0.1, affine=True, track_running_stats=True)\n",
       "      )\n",
       "    )\n",
       "  )\n",
       "  (decoder): Decoder(\n",
       "    (decoder_block): Sequential(\n",
       "      (0): Linear(in_features=10816, out_features=100, bias=True)\n",
       "      (1): ReLU(inplace=True)\n",
       "      (2): Linear(in_features=100, out_features=10, bias=True)\n",
       "    )\n",
       "  )\n",
       ")"
      ]
     },
     "execution_count": 95,
     "metadata": {},
     "output_type": "execute_result"
    }
   ],
   "source": [
    "model = FishNet().to(device)\n",
    "model"
   ]
  },
  {
   "cell_type": "code",
   "execution_count": 96,
   "metadata": {},
   "outputs": [
    {
     "name": "stdout",
     "output_type": "stream",
     "text": [
      "torch.Size([2, 10])\n"
     ]
    }
   ],
   "source": [
    "with torch.no_grad():\n",
    "    model.eval()\n",
    "    print(model((X_l, X_r)).shape)"
   ]
  },
  {
   "cell_type": "code",
   "execution_count": 16,
   "metadata": {},
   "outputs": [
    {
     "name": "stderr",
     "output_type": "stream",
     "text": [
      " Epoch 1/10: 100%|##########| 10/10 [00:00<00:00, 25.15 batches/s, loss=2.55]\n",
      " Epoch 2/10: 100%|##########| 10/10 [00:00<00:00, 27.81 batches/s, loss=1.19e-6]\n",
      " Epoch 3/10: 100%|##########| 10/10 [00:00<00:00, 27.84 batches/s, loss=5.96e-7]\n",
      " Epoch 4/10: 100%|##########| 10/10 [00:00<00:00, 27.84 batches/s, loss=5.96e-7]\n",
      " Epoch 5/10: 100%|##########| 10/10 [00:00<00:00, 27.83 batches/s, loss=5.96e-7]\n",
      " Epoch 6/10: 100%|##########| 10/10 [00:00<00:00, 27.69 batches/s, loss=2.38e-7]\n",
      " Epoch 7/10: 100%|##########| 10/10 [00:00<00:00, 27.83 batches/s, loss=0]\n",
      " Epoch 8/10: 100%|##########| 10/10 [00:00<00:00, 27.91 batches/s, loss=0]\n",
      " Epoch 9/10: 100%|##########| 10/10 [00:00<00:00, 27.79 batches/s, loss=0]\n",
      " Epoch 10/10: 100%|##########| 10/10 [00:00<00:00, 27.80 batches/s, loss=0]\n"
     ]
    }
   ],
   "source": [
    "# 'a' MUST BE IN CORRECT DTYPE OR PYTORCH WILL SHIT ITSELF WTF\n",
    "a = torch.arange((2), device=device, dtype=torch.int64)\n",
    "\n",
    "def train_gen(n: int):\n",
    "    for i in range(n):    \n",
    "        yield ((X_l, X_r), a)\n",
    "\n",
    "        \n",
    "def train(model: nn.Module, n_epochs: int):\n",
    "    model.train()\n",
    "    optimizer = torch.optim.Adam(model.parameters())\n",
    "    criterion = nn.CrossEntropyLoss()\n",
    "    \n",
    "    for epoch in range(n_epochs):\n",
    "        pbar = tqdm(\n",
    "            iterable = enumerate(range(10)),\n",
    "            total = 10,\n",
    "            unit = ' batches',\n",
    "            desc=f' Epoch {epoch+1}/{n_epochs}',\n",
    "#             file=sys.stdout,\n",
    "            ascii=True,\n",
    "            position=0\n",
    "        )\n",
    "        \n",
    "        running_loss: float = 0.0\n",
    "\n",
    "        i: int\n",
    "        minibatch: Tuple[torch.Tensor, torch.Tensor]\n",
    "        tqdm_dict = {'loss':0}\n",
    "        for i, minibatch in pbar:\n",
    "            \n",
    "            optimizer.zero_grad()\n",
    "            outputs = model((X_l, X_r))\n",
    "            loss = criterion(outputs, a)\n",
    "            loss.backward()\n",
    "            optimizer.step()\n",
    "            \n",
    "            running_loss += loss.item()\n",
    "            tqdm_dict['loss'] = running_loss\n",
    "            pbar.set_postfix(tqdm_dict)\n",
    "            \n",
    "        \n",
    "train(model, 10)"
   ]
  },
  {
   "cell_type": "markdown",
   "metadata": {},
   "source": [
    "<br/>\n",
    "<br/>\n",
    "<br/>\n",
    "<br/>\n",
    "<br/>\n",
    "<br/>\n",
    "<br/>\n",
    "<br/>\n",
    "<br/>\n",
    "<br/>\n",
    "<br/>\n",
    "<br/>\n",
    "<br/>\n",
    "<br/>\n",
    "<br/>\n",
    "<br/>\n",
    "<br/>\n",
    "<br/>\n",
    "<br/>\n",
    "<br/>\n",
    "<br/>\n",
    "<br/>\n",
    "<br/>\n",
    "<br/>\n",
    "<br/>\n",
    "<br/>\n",
    "<br/>\n",
    "<br/>\n",
    "<br/>\n",
    "<br/>\n",
    "<br/>\n",
    "<br/>\n",
    "<br/>\n",
    "<br/>\n",
    "<br/>\n",
    "<br/>\n",
    "<br/>\n",
    "<br/>\n",
    "<br/>\n",
    "<br/>\n",
    "<br/>\n",
    "<br/>\n",
    "<br/>\n",
    "<br/>\n",
    "<br/>\n",
    "<br/>\n",
    "<br/>\n",
    "<br/>\n",
    "<br/>\n",
    "<br/>\n",
    "<br/>\n",
    "<br/>\n",
    "<br/>\n",
    "<br/>\n",
    "<br/>\n",
    "<br/>\n",
    "<br/>\n",
    "<br/>\n",
    "<br/>\n",
    "<br/>\n",
    "<br/>\n",
    "<br/>\n",
    "<br/>\n",
    "<br/>\n",
    "<br/>\n",
    "<br/>\n",
    "<br/>\n",
    "<br/>\n",
    "<br/>\n",
    "<br/>\n",
    "<br/>\n",
    "<br/>\n",
    "\n",
    "Trial stuff"
   ]
  },
  {
   "cell_type": "code",
   "execution_count": 10,
   "metadata": {},
   "outputs": [
    {
     "ename": "ValueError",
     "evalue": "",
     "output_type": "error",
     "traceback": [
      "\u001b[0;31m---------------------------------------------------------------------------\u001b[0m",
      "\u001b[0;31mValueError\u001b[0m                                Traceback (most recent call last)",
      "\u001b[0;32m<ipython-input-10-e4c8e09828d5>\u001b[0m in \u001b[0;36m<module>\u001b[0;34m\u001b[0m\n\u001b[0;32m----> 1\u001b[0;31m \u001b[0;32mraise\u001b[0m \u001b[0mValueError\u001b[0m\u001b[0;34m\u001b[0m\u001b[0;34m\u001b[0m\u001b[0m\n\u001b[0m",
      "\u001b[0;31mValueError\u001b[0m: "
     ]
    }
   ],
   "source": [
    "raise ValueError"
   ]
  },
  {
   "cell_type": "code",
   "execution_count": 55,
   "metadata": {
    "scrolled": false
   },
   "outputs": [
    {
     "name": "stdout",
     "output_type": "stream",
     "text": [
      "Encoder(\n",
      "  (blocks): Sequential(\n",
      "    (0): EncoderBlock(\n",
      "      (layers): Sequential(\n",
      "        (0): Conv2d(3, 96, kernel_size=(7, 7), stride=(1, 1), padding=(3, 3))\n",
      "        (1): MaxPool2d(kernel_size=7, stride=2, padding=0, dilation=1, ceil_mode=False)\n",
      "        (2): ReLU(inplace=True)\n",
      "        (3): BatchNorm2d(96, eps=1e-05, momentum=0.1, affine=True, track_running_stats=True)\n",
      "      )\n",
      "    )\n",
      "    (1): EncoderBlock(\n",
      "      (layers): Sequential(\n",
      "        (0): Conv2d(96, 32, kernel_size=(5, 5), stride=(1, 1), padding=(2, 2))\n",
      "        (1): MaxPool2d(kernel_size=5, stride=2, padding=0, dilation=1, ceil_mode=False)\n",
      "        (2): ReLU(inplace=True)\n",
      "        (3): BatchNorm2d(32, eps=1e-05, momentum=0.1, affine=True, track_running_stats=True)\n",
      "      )\n",
      "    )\n",
      "    (2): EncoderBlock(\n",
      "      (layers): Sequential(\n",
      "        (0): Conv2d(32, 32, kernel_size=(3, 3), stride=(1, 1), padding=(1, 1))\n",
      "        (1): MaxPool2d(kernel_size=3, stride=2, padding=0, dilation=1, ceil_mode=False)\n",
      "        (2): ReLU(inplace=True)\n",
      "        (3): BatchNorm2d(32, eps=1e-05, momentum=0.1, affine=True, track_running_stats=True)\n",
      "      )\n",
      "    )\n",
      "  )\n",
      "  (latent): EncoderBlock(\n",
      "    (layers): Sequential(\n",
      "      (0): Conv2d(64, 16, kernel_size=(1, 1), stride=(1, 1))\n",
      "      (1): MaxPool2d(kernel_size=1, stride=2, padding=0, dilation=1, ceil_mode=False)\n",
      "      (2): ReLU(inplace=True)\n",
      "      (3): BatchNorm2d(16, eps=1e-05, momentum=0.1, affine=True, track_running_stats=True)\n",
      "    )\n",
      "  )\n",
      ")\n"
     ]
    },
    {
     "data": {
      "text/plain": [
       "torch.Size([2, 16, 25, 25])"
      ]
     },
     "execution_count": 55,
     "metadata": {},
     "output_type": "execute_result"
    }
   ],
   "source": [
    "enc = Encoder().to(device)\n",
    "print(enc)\n",
    "\n",
    "enc_output = enc((X_l, X_r))\n",
    "enc_output.shape\n",
    "\n",
    "# dec = Decoder()\n",
    "# print(dec)\n",
    "\n",
    "# # .size(0) is respective to batch size\n",
    "# dec_output = dec(enc_output.view(enc_output.size(0), -1))\n",
    "# dec_output.shape"
   ]
  }
 ],
 "metadata": {
  "kernelspec": {
   "display_name": "Python 3",
   "language": "python",
   "name": "python3"
  },
  "language_info": {
   "codemirror_mode": {
    "name": "ipython",
    "version": 3
   },
   "file_extension": ".py",
   "mimetype": "text/x-python",
   "name": "python",
   "nbconvert_exporter": "python",
   "pygments_lexer": "ipython3",
   "version": "3.7.7"
  }
 },
 "nbformat": 4,
 "nbformat_minor": 4
}
