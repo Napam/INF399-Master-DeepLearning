{
 "cells": [
  {
   "cell_type": "code",
   "execution_count": 11,
   "id": "welcome-alpha",
   "metadata": {},
   "outputs": [],
   "source": [
    "import torch\n",
    "import numpy as np \n",
    "import pandas as pd\n",
    "import os\n",
    "\n",
    "import utils\n",
    "from utils import debug, debugs, debugt\n",
    "from matplotlib import pyplot as plt\n",
    "from generators import Torch3DDataset\n",
    "import generators\n",
    "from torch.utils.data import DataLoader\n",
    "import sqlite3\n",
    "from hungarianmatcher import HungarianMatcher\n",
    "from setcriterion import SetCriterion\n",
    "from typing import Sequence\n",
    "import itertools\n",
    "\n",
    "import fishdetr3d as detr\n",
    "utils.reloader(generators)\n",
    "utils.reloader(Torch3DDataset)\n",
    "utils.reloader(detr)\n",
    "None"
   ]
  },
  {
   "cell_type": "code",
   "execution_count": 2,
   "id": "organic-clause",
   "metadata": {},
   "outputs": [],
   "source": [
    "TABLE = \"bboxes_full\"\n",
    "DIR = \"/mnt/blendervol/3d_data\"\n",
    "BATCHSIZE = 16\n",
    "num2str = eval(open(os.path.join(DIR, \"metadata.txt\")).read())\n",
    "\n",
    "TORCH_CACHE_DIR = 'torch_cache'\n",
    "torch.hub.set_dir(TORCH_CACHE_DIR)"
   ]
  },
  {
   "cell_type": "code",
   "execution_count": 3,
   "id": "polyphonic-quantity",
   "metadata": {},
   "outputs": [
    {
     "name": "stdout",
     "output_type": "stream",
     "text": [
      "Getting number of images in database\n"
     ]
    }
   ],
   "source": [
    "db_con = sqlite3.connect(f'file:{os.path.join(DIR,\"bboxes.db\")}?mode=ro', uri=True)\n",
    "print(\"Getting number of images in database\")\n",
    "n_data = pd.read_sql_query(f'SELECT COUNT(DISTINCT(imgnr)) FROM {TABLE}', db_con).values[0][0]\n",
    "\n",
    "TRAIN_RANGE = (0, int(9/10*n_data))\n",
    "VAL_RANGE = (int(9/10*n_data), n_data)"
   ]
  },
  {
   "cell_type": "code",
   "execution_count": 4,
   "id": "later-detail",
   "metadata": {},
   "outputs": [],
   "source": [
    "traingen = Torch3DDataset(DIR, TABLE, 1, shuffle=False, imgnrs=range(*TRAIN_RANGE))\n",
    "valgen = Torch3DDataset(DIR, TABLE, 1, shuffle=False, imgnrs=range(*VAL_RANGE))\n",
    "testgen = Torch3DDataset(DIR+\"_test\", TABLE, 1, shuffle=False)"
   ]
  },
  {
   "cell_type": "code",
   "execution_count": 5,
   "id": "resistant-spread",
   "metadata": {},
   "outputs": [
    {
     "name": "stdout",
     "output_type": "stream",
     "text": [
      "\u001b[32m(1, <module>)\u001b[0m \u001b[0mtraingen:\u001b[0m Torch3DDataset(\u001b[33mdata=\u001b[m/mnt/blendervol/3d_data, \u001b[33mindex_range=\u001b[m[0, 29890])\n",
      "\u001b[32m(2, <module>)\u001b[0m \u001b[0mvalgen:\u001b[0m Torch3DDataset(\u001b[33mdata=\u001b[m/mnt/blendervol/3d_data, \u001b[33mindex_range=\u001b[m[29891, 33212])\n",
      "\u001b[32m(3, <module>)\u001b[0m \u001b[0mtestgen:\u001b[0m Torch3DDataset(\u001b[33mdata=\u001b[m/mnt/blendervol/3d_data_test, \u001b[33mindex_range=\u001b[m[0, 63])\n"
     ]
    }
   ],
   "source": [
    "debug(traingen)\n",
    "debug(valgen)\n",
    "debug(testgen)"
   ]
  },
  {
   "cell_type": "code",
   "execution_count": 6,
   "id": "developmental-radiation",
   "metadata": {},
   "outputs": [
    {
     "name": "stdout",
     "output_type": "stream",
     "text": [
      "Encoder successfully loaded with pretrained weights\n"
     ]
    },
    {
     "data": {
      "text/plain": [
       "<All keys matched successfully>"
      ]
     },
     "execution_count": 6,
     "metadata": {},
     "output_type": "execute_result"
    }
   ],
   "source": [
    "model = detr.FishDETR()\n",
    "model.load_state_dict(torch.load('fish_statedicts_3d/weights_2021-03-22/detr_statedicts_epoch18_train0.0505_val0.0506_2021-03-22T10:22:42.pth', map_location='cpu')['model_state_dict'])"
   ]
  },
  {
   "cell_type": "code",
   "execution_count": 7,
   "id": "confident-subject",
   "metadata": {},
   "outputs": [],
   "source": [
    "BATCH_SIZE = 64\n",
    "testloader = DataLoader(\n",
    "    dataset = testgen,\n",
    "    batch_size = BATCH_SIZE,\n",
    "    collate_fn = detr.collate,\n",
    "#     pin_memory = True,\n",
    "    shuffle = True\n",
    ")\n",
    "\n",
    "weight_dict = {'loss_ce': 1, 'loss_bbox': 1 , 'loss_giou': 1, 'loss_smooth':1}\n",
    "losses = ['labels', 'boxes_smooth_l1']\n",
    "matcher = HungarianMatcher(use_giou=False, smooth_l1=False)\n",
    "criterion = SetCriterion(6, matcher, weight_dict, eos_coef = 0.5, losses=losses)"
   ]
  },
  {
   "cell_type": "code",
   "execution_count": 8,
   "id": "nuclear-buddy",
   "metadata": {},
   "outputs": [],
   "source": [
    "X, y = next(iter(testloader))"
   ]
  },
  {
   "cell_type": "code",
   "execution_count": 9,
   "id": "adjusted-lemon",
   "metadata": {},
   "outputs": [],
   "source": [
    "X_, y_ = detr.preprocess(X, y, None)\n",
    "with torch.no_grad():\n",
    "    out, loss = model.eval_on_batch(X_, y_, criterion)"
   ]
  },
  {
   "cell_type": "code",
   "execution_count": 17,
   "id": "forced-square",
   "metadata": {},
   "outputs": [],
   "source": [
    "df = detr.postprocess_to_df(range(0,64), out, 0.7)\n",
    "df.to_csv('nogit_test_output.csv')"
   ]
  },
  {
   "cell_type": "code",
   "execution_count": 19,
   "id": "written-repeat",
   "metadata": {},
   "outputs": [],
   "source": [
    "pd.read_sql(\"SELECT * FROM bboxes_full\",testgen.con).to_csv(\"nogit_test_labels.csv\", index=False)"
   ]
  },
  {
   "cell_type": "markdown",
   "id": "cooperative-commander",
   "metadata": {},
   "source": [
    "<br/>\n",
    "<br/>\n",
    "<br/>\n",
    "<br/>\n",
    "<br/>\n",
    "<br/>\n",
    "<br/>\n",
    "<br/>\n",
    "<br/>\n",
    "<br/>\n",
    "<br/>\n",
    "<br/>\n",
    "<br/>\n",
    "<br/>\n",
    "<br/>\n",
    "<br/>\n",
    "<br/>\n",
    "<br/>\n",
    "<br/>\n",
    "<br/>\n",
    "<br/>\n",
    "<br/>\n",
    "<br/>\n",
    "<br/>\n",
    "<br/>\n",
    "<br/>\n",
    "<br/>\n",
    "<br/>\n",
    "<br/>\n",
    "<br/>\n",
    "<br/>\n",
    "<br/>\n",
    "<br/>\n",
    "<br/>\n",
    "<br/>\n",
    "<br/>\n",
    "<br/>\n",
    "<br/>\n",
    "<br/>\n",
    "<br/>\n",
    "<br/>\n",
    "<br/>"
   ]
  },
  {
   "cell_type": "code",
   "execution_count": null,
   "id": "vanilla-argument",
   "metadata": {
    "scrolled": false
   },
   "outputs": [],
   "source": [
    "gen = Torch3DDataset(data_dir=DIR, table=TABLE, batch_size=BATCHSIZE, n_classes=6, shuffle=False)\n",
    "\n",
    "grid = (4,4)\n",
    "fig, axes = plt.subplots(*grid, figsize=(grid[1]*5,grid[0]*5))\n",
    "\n",
    "for i, ax in enumerate(np.ravel(axes)):\n",
    "    X, y = testgen[i]\n",
    "    left_img = X[0]\n",
    "    boxes = y['boxes']\n",
    "    boxes[:,[0,1]] += boxes[:,[2,3]]*0.5 \n",
    "    utils.plot_bboxes(left_img[0].permute((1,2,0)), classes=y['labels'], boxes=boxes, classmap=num2str, ax=ax)\n",
    "    "
   ]
  }
 ],
 "metadata": {
  "kernelspec": {
   "display_name": "Python 3",
   "language": "python",
   "name": "python3"
  },
  "language_info": {
   "codemirror_mode": {
    "name": "ipython",
    "version": 3
   },
   "file_extension": ".py",
   "mimetype": "text/x-python",
   "name": "python",
   "nbconvert_exporter": "python",
   "pygments_lexer": "ipython3",
   "version": "3.8.5"
  }
 },
 "nbformat": 4,
 "nbformat_minor": 5
}
