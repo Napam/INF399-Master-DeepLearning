{
 "cells": [
  {
   "cell_type": "code",
   "execution_count": null,
   "metadata": {},
   "outputs": [],
   "source": [
    "import numpy as np \n",
    "import pandas as pd \n",
    "import torch as th\n",
    "import torchvision"
   ]
  },
  {
   "cell_type": "code",
   "execution_count": null,
   "metadata": {},
   "outputs": [],
   "source": [
    "def pytorch_init():\n",
    "    th.cuda.set_device(1)\n",
    "    th.cuda.current_device()\n",
    "    \n",
    "    # Sanity checks\n",
    "    assert th.cuda.current_device() == 1, 'Using wrong GPU'\n",
    "    assert th.cuda.device_count() == 2, 'Cannot find both GPUs'\n",
    "    assert th.cuda.get_device_name(0) == 'GeForce RTX 2080 Ti'\n",
    "    assert th.cuda.is_available() == True, 'GPU not available'\n",
    "    \n",
    "pytorch_init()"
   ]
  },
  {
   "cell_type": "code",
   "execution_count": null,
   "metadata": {},
   "outputs": [],
   "source": []
  }
 ],
 "metadata": {
  "kernelspec": {
   "display_name": "Python 3",
   "language": "python",
   "name": "python3"
  },
  "language_info": {
   "codemirror_mode": {
    "name": "ipython",
    "version": 3
   },
   "file_extension": ".py",
   "mimetype": "text/x-python",
   "name": "python",
   "nbconvert_exporter": "python",
   "pygments_lexer": "ipython3",
   "version": "3.7.7"
  }
 },
 "nbformat": 4,
 "nbformat_minor": 4
}
