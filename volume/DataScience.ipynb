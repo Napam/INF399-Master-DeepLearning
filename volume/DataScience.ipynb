{
 "cells": [
  {
   "cell_type": "code",
   "execution_count": 1,
   "metadata": {},
   "outputs": [],
   "source": [
    "import os\n",
    "import numpy as np \n",
    "import pandas as pd \n",
    "from datetime import datetime\n",
    "import time\n",
    "import random\n",
    "from tqdm.auto import tqdm\n",
    "\n",
    "\n",
    "#Torch\n",
    "import torch\n",
    "import torch.nn as nn\n",
    "from torch.utils.data import Dataset, DataLoader\n",
    "from torch.utils.data.sampler import SequentialSampler, RandomSampler\n",
    "import torchvision.transforms as T\n",
    "\n",
    "#sklearn\n",
    "from sklearn.model_selection import StratifiedKFold\n",
    "from skimage import io\n",
    "\n",
    "################# DETR FUCNTIONS FOR LOSS######################## \n",
    "import sys\n",
    "sys.path.append('./detr_custom/')\n",
    "\n",
    "from models.matcher import HungarianMatcher\n",
    "from models.detr import SetCriterion\n",
    "#################################################################\n",
    "\n",
    "import matplotlib.pyplot as plt\n",
    "\n",
    "#Glob\n",
    "from glob import glob\n",
    "\n",
    "from typing import Iterable, Sequence, List, Tuple, Dict, Optional, Any\n",
    "import albumentations as A\n",
    "from albumentations.pytorch import ToTensorV2\n",
    "from PIL import Image\n",
    "from generators import BlenderStandardDataset"
   ]
  },
  {
   "cell_type": "code",
   "execution_count": 2,
   "metadata": {},
   "outputs": [],
   "source": [
    "def seed_everything(seed):\n",
    "    random.seed(seed)\n",
    "    os.environ['PYTHONHASHSEED'] = str(seed)\n",
    "    np.random.seed(seed)\n",
    "    torch.manual_seed(seed)\n",
    "    torch.cuda.manual_seed(seed)\n",
    "    torch.backends.cudnn.deterministic = True\n",
    "    torch.backends.cudnn.benchmark = True"
   ]
  },
  {
   "cell_type": "code",
   "execution_count": 3,
   "metadata": {},
   "outputs": [],
   "source": [
    "TORCH_CACHE_DIR = 'torch_cache'\n",
    "DATASET_DIR = '/mnt/blendervol/objdet_std_data'\n",
    "SQL_TABLE = 'bboxes_std'\n",
    "BATCH_SIZE = 4"
   ]
  },
  {
   "cell_type": "code",
   "execution_count": 4,
   "metadata": {},
   "outputs": [],
   "source": [
    "from importlib import reload\n",
    "import generators\n",
    "reload(generators)\n",
    "from generators import BlenderStandardDataset\n",
    "\n",
    "datagen = BlenderStandardDataset(DATASET_DIR, SQL_TABLE, BATCH_SIZE, shuffle=False)\n",
    "X, y = datagen[0]"
   ]
  },
  {
   "cell_type": "code",
   "execution_count": 10,
   "metadata": {},
   "outputs": [
    {
     "name": "stdout",
     "output_type": "stream",
     "text": [
      "Calculating mean:\n"
     ]
    },
    {
     "data": {
      "application/vnd.jupyter.widget-view+json": {
       "model_id": "baed4836af374f708031c1827a0c466e",
       "version_major": 2,
       "version_minor": 0
      },
      "text/plain": [
       "HBox(children=(FloatProgress(value=0.0, max=749.0), HTML(value='')))"
      ]
     },
     "metadata": {},
     "output_type": "display_data"
    },
    {
     "name": "stdout",
     "output_type": "stream",
     "text": [
      "\n",
      "Calculating variance\n"
     ]
    },
    {
     "data": {
      "application/vnd.jupyter.widget-view+json": {
       "model_id": "3d20ee41204c41258ac34eda7f87eec2",
       "version_major": 2,
       "version_minor": 0
      },
      "text/plain": [
       "HBox(children=(FloatProgress(value=0.0, max=749.0), HTML(value='')))"
      ]
     },
     "metadata": {},
     "output_type": "display_data"
    },
    {
     "name": "stdout",
     "output_type": "stream",
     "text": [
      "\n",
      "Mean: [0.64817397 0.75178422 0.43881263]\n",
      "Variance: [0.00467012 0.00596115 0.00344419]\n",
      "Std: [0.06833826 0.07720845 0.05868721]\n"
     ]
    }
   ],
   "source": [
    "def calc_mean(data: Iterable[Tuple[np.ndarray, Any]]):\n",
    "    denominator = 0\n",
    "    mean = np.zeros(3)\n",
    "    for imgbatch, __ in tqdm(data, total=len(data)-1):\n",
    "        imgbatch = np.array(imgbatch)\n",
    "        n = len(imgbatch)\n",
    "        mean = np.average((mean, imgbatch.mean((0,1,2))), 0, weights=(denominator, n))\n",
    "        denominator += n\n",
    "    return mean\n",
    "\n",
    "def calc_var(data: Iterable[Tuple[np.ndarray, Any]], mean: np.ndarray):\n",
    "    denominator = 0\n",
    "    var = np.zeros_like(mean)\n",
    "    for imgbatch, __ in tqdm(data, total=len(data)-1):\n",
    "        imgbatch = np.array(imgbatch)\n",
    "        n = len(imgbatch)\n",
    "        \n",
    "        batchvar = ((imgbatch - mean)**2).mean((0,1,2))\n",
    "        var = np.average((var, batchvar), axis=0, weights=(denominator, n))\n",
    "        denominator += n\n",
    "    return var\n",
    "    \n",
    "def calc_stats(data: Iterable):\n",
    "    print('Calculating mean:')\n",
    "    mean = calc_mean(data)\n",
    "    print('Calculating variance')\n",
    "    var = calc_var(data, mean)\n",
    "    print(f'Mean: {mean}')\n",
    "    print(f'Variance: {var}')\n",
    "    print(f'Std: {np.sqrt(var)}')\n",
    "    \n",
    "    return mean, var\n",
    "\n",
    "m, v = calc_stats(datagen)"
   ]
  },
  {
   "cell_type": "code",
   "execution_count": 14,
   "metadata": {},
   "outputs": [
    {
     "data": {
      "text/plain": [
       "array([1.19087988, 1.52009207, 0.87826803])"
      ]
     },
     "execution_count": 14,
     "metadata": {},
     "output_type": "execute_result"
    }
   ],
   "source": [
    "v2 / 255"
   ]
  },
  {
   "cell_type": "code",
   "execution_count": 7,
   "metadata": {},
   "outputs": [
    {
     "data": {
      "text/plain": [
       "array([17.4262552 , 19.68815575, 14.96523801])"
      ]
     },
     "execution_count": 7,
     "metadata": {},
     "output_type": "execute_result"
    }
   ],
   "source": [
    "np.sqrt(v)"
   ]
  },
  {
   "cell_type": "markdown",
   "metadata": {},
   "source": [
    "<br/>\n",
    "<br/>\n",
    "<br/>\n",
    "<br/>\n",
    "<br/>\n",
    "<br/>\n",
    "<br/>\n",
    "<br/>\n",
    "<br/>\n",
    "<br/>\n",
    "<br/>\n",
    "<br/>\n",
    "<br/>\n",
    "<br/>\n",
    "<br/>\n",
    "<br/>\n",
    "<br/>\n",
    "<br/>\n",
    "<br/>\n",
    "<br/>\n",
    "<br/>\n",
    "<br/>\n",
    "<br/>\n",
    "<br/>\n",
    "<br/>\n",
    "<br/>\n",
    "<br/>\n",
    "<br/>\n",
    "<br/>\n",
    "<br/>\n",
    "<br/>\n",
    "<br/>\n",
    "<br/>\n",
    "<br/>\n",
    "<br/>\n",
    "<br/>"
   ]
  },
  {
   "cell_type": "code",
   "execution_count": 8,
   "metadata": {},
   "outputs": [
    {
     "data": {
      "text/plain": [
       "array([3., 6., 9.])"
      ]
     },
     "execution_count": 8,
     "metadata": {},
     "output_type": "execute_result"
    }
   ],
   "source": [
    "A = np.array([\n",
    "    np.full((16,16), 1),\n",
    "    np.full((16,16), 2),\n",
    "    np.full((16,16), 3)\n",
    "])[None,...].repeat(10, 0).transpose((0,2,3,1))\n",
    "\n",
    "B = np.array([\n",
    "    np.full((16,16), 2),\n",
    "    np.full((16,16), 4),\n",
    "    np.full((16,16), 6)\n",
    "])[None,...].repeat(10, 0).transpose((0,2,3,1))\n",
    "\n",
    "C = np.array([\n",
    "    np.full((16,16), 3),\n",
    "    np.full((16,16), 6),\n",
    "    np.full((16,16), 9)\n",
    "])[None,...].repeat(10, 0).transpose((0,2,3,1))\n",
    "\n",
    "D = np.array([\n",
    "    np.full((16,16), 4),\n",
    "    np.full((16,16), 8),\n",
    "    np.full((16,16), 12)\n",
    "])[None,...].repeat(10, 0).transpose((0,2,3,1))\n",
    "\n",
    "E = np.array([\n",
    "    np.full((16,16), 5),\n",
    "    np.full((16,16), 10),\n",
    "    np.full((16,16), 15)\n",
    "])[None,...].repeat(10, 0).transpose((0,2,3,1))\n",
    "\n",
    "np.mean([A,B,C,D,E], (0,1,2,3))"
   ]
  },
  {
   "cell_type": "code",
   "execution_count": 9,
   "metadata": {},
   "outputs": [
    {
     "data": {
      "text/plain": [
       "2.8284271247461903"
      ]
     },
     "execution_count": 9,
     "metadata": {},
     "output_type": "execute_result"
    }
   ],
   "source": [
    "np.std([np.full(16*16*10, 2),\n",
    "        np.full(16*16*10, 4),\n",
    "        np.full(16*16*10, 6),\n",
    "        np.full(16*16*10, 8),\n",
    "        np.full(16*16*10, 10)\n",
    "       ])"
   ]
  },
  {
   "cell_type": "code",
   "execution_count": 10,
   "metadata": {},
   "outputs": [
    {
     "data": {
      "text/plain": [
       "array([1.41421356, 2.82842712, 4.24264069])"
      ]
     },
     "execution_count": 10,
     "metadata": {},
     "output_type": "execute_result"
    }
   ],
   "source": [
    "np.std([A,B,C,D,E], (0,1,2,3))"
   ]
  },
  {
   "cell_type": "code",
   "execution_count": 11,
   "metadata": {},
   "outputs": [
    {
     "name": "stdout",
     "output_type": "stream",
     "text": [
      "Mean:\n",
      "[2. 4. 6.]\n"
     ]
    }
   ],
   "source": [
    "# Super memory efficient implementation :^)\n",
    "mean = np.zeros(3)\n",
    "denominator = 0\n",
    "for thing in [A, B, C]:\n",
    "    mean = np.average((mean, thing.mean((0,1,2))), axis=0, weights=(denominator, len(thing)))\n",
    "    denominator += len(thing)\n",
    "\n",
    "print('Mean:')\n",
    "print(mean)"
   ]
  },
  {
   "cell_type": "code",
   "execution_count": 12,
   "metadata": {},
   "outputs": [
    {
     "name": "stdout",
     "output_type": "stream",
     "text": [
      "[0. 0. 0.]\n",
      "[1. 4. 9.]\n",
      "\n",
      "[1. 4. 9.]\n",
      "[0. 0. 0.]\n",
      "\n",
      "[0.5 2.  4.5]\n",
      "[1. 4. 9.]\n",
      "\n",
      "Var: \n",
      "[0.66666667 2.66666667 6.        ]\n"
     ]
    }
   ],
   "source": [
    "var = np.zeros_like(mean)\n",
    "denominator_var = 0\n",
    "\n",
    "for thing in [A, B, C]:    \n",
    "    m_ = ((thing-mean)**2).mean((0,1,2))\n",
    "    \n",
    "    print(var)\n",
    "    print(m_)\n",
    "    print()\n",
    "    \n",
    "    var = np.average(\n",
    "        (var, m_),\n",
    "        axis=0,\n",
    "        weights=(denominator_var, len(thing))\n",
    "    )\n",
    "    \n",
    "    denominator_var += len(thing)\n",
    "    \n",
    "print('Var: ')\n",
    "print(var)"
   ]
  },
  {
   "cell_type": "code",
   "execution_count": 13,
   "metadata": {},
   "outputs": [
    {
     "data": {
      "text/plain": [
       "array([0.66666667, 2.66666667, 6.        ])"
      ]
     },
     "execution_count": 13,
     "metadata": {},
     "output_type": "execute_result"
    }
   ],
   "source": [
    "np.array([((A - mean)**2).mean((0,1,2)), ((B - mean)**2).mean((0,1,2)), ((C - mean)**2).mean((0,1,2))]).mean(0)"
   ]
  },
  {
   "cell_type": "code",
   "execution_count": 14,
   "metadata": {},
   "outputs": [
    {
     "data": {
      "application/vnd.jupyter.widget-view+json": {
       "model_id": "3a2f41b5e7934fc48687a6e0d8fd172e",
       "version_major": 2,
       "version_minor": 0
      },
      "text/plain": [
       "HBox(children=(FloatProgress(value=0.0, max=5.0), HTML(value='')))"
      ]
     },
     "metadata": {},
     "output_type": "display_data"
    },
    {
     "name": "stdout",
     "output_type": "stream",
     "text": [
      "\n"
     ]
    },
    {
     "data": {
      "application/vnd.jupyter.widget-view+json": {
       "model_id": "ec9317b0b5b3411089e272121b0d61a8",
       "version_major": 2,
       "version_minor": 0
      },
      "text/plain": [
       "HBox(children=(FloatProgress(value=0.0, max=5.0), HTML(value='')))"
      ]
     },
     "metadata": {},
     "output_type": "display_data"
    },
    {
     "name": "stdout",
     "output_type": "stream",
     "text": [
      "\n",
      "[1.41421356 2.82842712 4.24264069]\n"
     ]
    }
   ],
   "source": [
    "class Dummygen:\n",
    "    def __len__(self):\n",
    "        return 5\n",
    "    \n",
    "    def __getitem__(self, index):\n",
    "        return ([A,B,C,D,E][index], None)\n",
    "        \n",
    "m, v = calc_stats(Dummygen())\n",
    "print(np.sqrt(v))"
   ]
  }
 ],
 "metadata": {
  "kernelspec": {
   "display_name": "Python 3",
   "language": "python",
   "name": "python3"
  },
  "language_info": {
   "codemirror_mode": {
    "name": "ipython",
    "version": 3
   },
   "file_extension": ".py",
   "mimetype": "text/x-python",
   "name": "python",
   "nbconvert_exporter": "python",
   "pygments_lexer": "ipython3",
   "version": "3.8.3"
  }
 },
 "nbformat": 4,
 "nbformat_minor": 4
}
