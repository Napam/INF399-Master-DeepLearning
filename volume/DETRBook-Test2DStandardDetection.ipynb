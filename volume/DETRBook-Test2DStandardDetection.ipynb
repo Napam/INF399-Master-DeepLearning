{
 "cells": [
  {
   "cell_type": "code",
   "execution_count": null,
   "metadata": {},
   "outputs": [],
   "source": [
    "import os\n",
    "import numpy as np \n",
    "import pandas as pd \n",
    "from datetime import datetime\n",
    "import time\n",
    "import random\n",
    "from tqdm.auto import tqdm\n",
    "\n",
    "\n",
    "#Torch\n",
    "import torch\n",
    "import torch.nn as nn\n",
    "from torch.utils.data import Dataset, DataLoader\n",
    "from torch.utils.data.sampler import SequentialSampler, RandomSampler\n",
    "import torchvision.transforms as T\n",
    "\n",
    "#sklearn\n",
    "from sklearn.model_selection import StratifiedKFold\n",
    "from skimage import io\n",
    "\n",
    "################# DETR FUCNTIONS FOR LOSS######################## \n",
    "import sys\n",
    "sys.path.append('./detr_custom/')\n",
    "\n",
    "from models.matcher import HungarianMatcher\n",
    "from models.detr import SetCriterion\n",
    "#################################################################\n",
    "\n",
    "import matplotlib.pyplot as plt\n",
    "\n",
    "#Glob\n",
    "from glob import glob\n",
    "\n",
    "from typing import Iterable, Sequence, List, Tuple, Dict, Optional, Union, Any\n",
    "from types import ModuleType\n",
    "import albumentations as A\n",
    "from albumentations.pytorch import ToTensorV2\n",
    "from PIL import Image\n",
    "from generators import BlenderStandardDataset, TorchStandardDataset"
   ]
  },
  {
   "cell_type": "code",
   "execution_count": null,
   "metadata": {},
   "outputs": [],
   "source": [
    "def seed_everything(seed):\n",
    "    random.seed(seed)\n",
    "    os.environ['PYTHONHASHSEED'] = str(seed)\n",
    "    np.random.seed(seed)\n",
    "    torch.manual_seed(seed)\n",
    "    torch.cuda.manual_seed(seed)\n",
    "    torch.backends.cudnn.deterministic = True\n",
    "    torch.backends.cudnn.benchmark = True\n",
    "    \n",
    "def pytorch_init_janus_gpu():\n",
    "    device_id = 1\n",
    "    torch.cuda.set_device(device_id)\n",
    "    \n",
    "    # Sanity checks\n",
    "    assert torch.cuda.current_device() == 1, 'Using wrong GPU'\n",
    "    assert torch.cuda.device_count() == 2, 'Cannot find both GPUs'\n",
    "    assert torch.cuda.get_device_name(0) == 'GeForce RTX 2080 Ti', 'Wrong GPU name'\n",
    "    assert torch.cuda.is_available() == True, 'GPU not available'\n",
    "    return torch.device('cuda', device_id)\n",
    "\n",
    "def reloader(module_or_member: Union[ModuleType, Any]):    \n",
    "    if isinstance(module_or_member, ModuleType):\n",
    "        importlib.reload(module_or_member)\n",
    "        return module\n",
    "    else:\n",
    "        module = importlib.import_module(module_or_member.__module__)\n",
    "        importlib.reload(module)\n",
    "        return module.__dict__[module_or_member.__name__]"
   ]
  },
  {
   "cell_type": "code",
   "execution_count": null,
   "metadata": {},
   "outputs": [],
   "source": [
    "seed = 42069\n",
    "seed_everything(seed)\n",
    "\n",
    "try:\n",
    "    device = pytorch_init_janus_gpu()\n",
    "    print(f'Using device: {device} ({torch.cuda.get_device_name()})')\n",
    "except AssertionError as e:\n",
    "    print('GPU could not initialize, got error:', e)\n",
    "    device = torch.device('cpu')\n",
    "    print('Device is set to CPU')"
   ]
  },
  {
   "cell_type": "code",
   "execution_count": null,
   "metadata": {},
   "outputs": [],
   "source": [
    "TORCH_CACHE_DIR = 'torch_cache'\n",
    "torch.hub.set_dir(TORCH_CACHE_DIR)\n",
    "model = torch.hub.load(os.path.join(TORCH_CACHE_DIR, 'facebookresearch_detr_master'), model='detr_resnet50', pretrained=True, source='local').to(device)"
   ]
  },
  {
   "cell_type": "code",
   "execution_count": null,
   "metadata": {},
   "outputs": [],
   "source": [
    "#.rotate creates black bars\n",
    "img = Image.open('test_image2.png')\n",
    "w, h = img.size"
   ]
  },
  {
   "cell_type": "code",
   "execution_count": null,
   "metadata": {},
   "outputs": [],
   "source": [
    "transform = T.Compose([\n",
    "    T.Resize(800),\n",
    "    T.ToTensor(),\n",
    "    T.Normalize([0.485, 0.456, 0.406], [0.229, 0.224, 0.225]),\n",
    "])"
   ]
  },
  {
   "cell_type": "code",
   "execution_count": null,
   "metadata": {},
   "outputs": [],
   "source": [
    "input_img = transform(img)"
   ]
  },
  {
   "cell_type": "code",
   "execution_count": null,
   "metadata": {},
   "outputs": [],
   "source": [
    "with torch.no_grad():\n",
    "    output = model(input_img.unsqueeze(0).to(device))"
   ]
  },
  {
   "cell_type": "code",
   "execution_count": null,
   "metadata": {},
   "outputs": [],
   "source": [
    "boxes = output['pred_boxes'][0]\n",
    "logits = output['pred_logits'][0]"
   ]
  },
  {
   "cell_type": "code",
   "execution_count": null,
   "metadata": {},
   "outputs": [],
   "source": [
    "TORCH_CACHE_DIR = 'torch_cache'\n",
    "DATASET_DIR = '/mnt/blendervol/objdet_std_data'\n",
    "SQL_TABLE = 'bboxes_std'\n",
    "WEIGHTS_DIR = 'fish_statedicts'\n",
    "torchdataset = TorchStandardDataset(DATASET_DIR, SQL_TABLE, 1, shuffle=False, imgnrs=range(0,32))"
   ]
  },
  {
   "cell_type": "code",
   "execution_count": null,
   "metadata": {},
   "outputs": [],
   "source": [
    "def sanity_dataset(gen: TorchStandardDataset):\n",
    "    img, targets = gen[1]\n",
    "    img = img.numpy().transpose((1,2,0))\n",
    "    boxes = targets['boxes'].numpy()\n",
    "    \n",
    "    h, w = img.shape[:2]\n",
    "    \n",
    "    ax = plt.gca()\n",
    "    ax.imshow(img)\n",
    "    \n",
    "    for box in boxes:\n",
    "        cxy = box[:2]  \n",
    "        ax.add_patch(plt.Circle(cxy*(h, w), 5, edgecolor='k'))\n",
    "        \n",
    "        bw, bh = box[2], box[3]\n",
    "        tlxy = (cxy - (bw/2, bh/2))*(h, w)\n",
    "        ax.add_patch(plt.Rectangle(tlxy, bw*w, bh*h, fill=False, lw=2, color='red', alpha=0.2))\n",
    "\n",
    "sanity_dataset(torchdataset)"
   ]
  },
  {
   "cell_type": "code",
   "execution_count": null,
   "metadata": {},
   "outputs": [],
   "source": [
    "def box_xywh_to_cxcywh(bboxes: torch.Tensor):\n",
    "    '''\n",
    "    top left point with width height to box center and width and height\n",
    "    \n",
    "           w                  w\n",
    "      x ------->          -------->\n",
    "      |                  |\n",
    "    h |           ==>  h |    x\n",
    "      |                  |\n",
    "      v                  v\n",
    "    \n",
    "    '''\n",
    "    newtensor = bboxes.detach().clone()\n",
    "    # (cx, cy, w, h)\n",
    "    newtensor[:,0] = newtensor[:,0] + newtensor[:,2] * 0.5 # x + w / 2\n",
    "    newtensor[:,1] = newtensor[:,1] + newtensor[:,3] * 0.5 # y + h / 2\n",
    "    return newtensor\n",
    "    \n",
    "__, y__ = torchdataset[0]\n",
    "# print(y__)\n",
    "box_xywh_to_cxcywh(y__['boxes'])"
   ]
  },
  {
   "cell_type": "code",
   "execution_count": null,
   "metadata": {},
   "outputs": [],
   "source": [
    "def postprocess2(logits: torch.Tensor, boxes: torch.Tensor):\n",
    "    keepmask = logits.softmax(-1)[:,:-1].max(-1)[0] > 0.5\n",
    "    if not any(keepmask):\n",
    "        return torch.Tensor(), torch.Tensor()\n",
    "    return logits[keepmask].argmax(-1), boxes[keepmask]\n",
    "\n",
    "logits_, boxes_ = postprocess2(logits, boxes)\n",
    "\n",
    "def plot_results2(img: Image.Image, classes: Iterable, boxes: Iterable):\n",
    "    npimg = np.array(img)\n",
    "    h, w = np.array(img).shape[:2]\n",
    "    \n",
    "    fig, ax = plt.subplots(1,1,figsize=(10,7))\n",
    "    \n",
    "    ax.imshow(npimg)\n",
    "\n",
    "    for class_, bbox in zip(classes, boxes):\n",
    "        bx, by, bw, bh = bbox\n",
    "        ax.add_patch(plt.Rectangle((w*bx-bw*w/2,h*by-bh*h/2), bw*w, bh*h, fill=False, color='cyan', linewidth=2))\n",
    "    \n",
    "plot_results2(img, logits_, boxes_)"
   ]
  },
  {
   "cell_type": "code",
   "execution_count": null,
   "metadata": {},
   "outputs": [],
   "source": [
    "def postprocess(logits: torch.Tensor, boxes: torch.Tensor):\n",
    "    keepmask = logits.softmax(-1)[:,:-1].max(-1)[0] > 0.7\n",
    "    return logits[keepmask].argmax(-1), boxes[keepmask]\n",
    "\n",
    "logits_, boxes_ = postprocess(logits, boxes)"
   ]
  },
  {
   "cell_type": "code",
   "execution_count": null,
   "metadata": {},
   "outputs": [],
   "source": [
    "# COCO classes\n",
    "CLASSES = [\n",
    "    'N/A', 'person', 'bicycle', 'car', 'motorcycle', 'airplane', 'bus',\n",
    "    'train', 'truck', 'boat', 'traffic light', 'fire hydrant', 'N/A',\n",
    "    'stop sign', 'parking meter', 'bench', 'bird', 'cat', 'dog', 'horse',\n",
    "    'sheep', 'cow', 'elephant', 'bear', 'zebra', 'giraffe', 'N/A', 'backpack',\n",
    "    'umbrella', 'N/A', 'N/A', 'handbag', 'tie', 'suitcase', 'frisbee', 'skis',\n",
    "    'snowboard', 'sports ball', 'kite', 'baseball bat', 'baseball glove',\n",
    "    'skateboard', 'surfboard', 'tennis racket', 'bottle', 'N/A', 'wine glass',\n",
    "    'cup', 'fork', 'knife', 'spoon', 'bowl', 'banana', 'apple', 'sandwich',\n",
    "    'orange', 'broccoli', 'carrot', 'hot dog', 'pizza', 'donut', 'cake',\n",
    "    'chair', 'couch', 'potted plant', 'bed', 'N/A', 'dining table', 'N/A',\n",
    "    'N/A', 'toilet', 'N/A', 'tv', 'laptop', 'mouse', 'remote', 'keyboard',\n",
    "    'cell phone', 'microwave', 'oven', 'toaster', 'sink', 'refrigerator', 'N/A',\n",
    "    'book', 'clock', 'vase', 'scissors', 'teddy bear', 'hair drier',\n",
    "    'toothbrush'\n",
    "]\n",
    "\n",
    "def box_cxcywh_to_xyxy(x: torch.Tensor):\n",
    "    x_c, y_c, w, h = x.unbind(1)\n",
    "    b = [(x_c - 0.5 * w), (y_c - 0.5 * h),\n",
    "         (x_c + 0.5 * w), (y_c + 0.5 * h)]\n",
    "    return torch.stack(b, dim=1)\n",
    "\n",
    "def plot_results(img: Image.Image, classes: Iterable, boxes: Iterable):\n",
    "    boxes = box_cxcywh_to_xyxy(boxes)\n",
    "    fig, ax = plt.subplots(figsize=(16,10))\n",
    "    plt.imshow(img)\n",
    "    \n",
    "    w, h = img.size\n",
    "\n",
    "    boxes[:,[0,2]] *= w\n",
    "    boxes[:,[1,3]] *= h\n",
    "\n",
    "    for cls, (xmin, ymin, xmax, ymax) in zip(classes, boxes):\n",
    "        ax.add_patch(plt.Rectangle((xmin, ymin), xmax - xmin, ymax - ymin,\n",
    "                                   fill=False, color='cyan', linewidth=3))\n",
    "        try:\n",
    "            ax.text(xmin, ymin, CLASSES[cls], fontsize=11, bbox=dict(facecolor='cyan', alpha=0.9))\n",
    "        except:\n",
    "            pass\n",
    "            \n",
    "    plt.axis('off')\n",
    "    plt.show()\n",
    "    \n",
    "plot_results(img, logits_, boxes_)"
   ]
  },
  {
   "cell_type": "code",
   "execution_count": null,
   "metadata": {},
   "outputs": [],
   "source": []
  },
  {
   "cell_type": "code",
   "execution_count": null,
   "metadata": {},
   "outputs": [],
   "source": []
  }
 ],
 "metadata": {
  "kernelspec": {
   "display_name": "Python 3",
   "language": "python",
   "name": "python3"
  },
  "language_info": {
   "codemirror_mode": {
    "name": "ipython",
    "version": 3
   },
   "file_extension": ".py",
   "mimetype": "text/x-python",
   "name": "python",
   "nbconvert_exporter": "python",
   "pygments_lexer": "ipython3",
   "version": "3.8.3"
  }
 },
 "nbformat": 4,
 "nbformat_minor": 4
}
