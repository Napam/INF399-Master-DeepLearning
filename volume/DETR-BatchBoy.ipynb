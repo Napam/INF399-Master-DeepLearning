{
 "cells": [
  {
   "cell_type": "code",
   "execution_count": 1,
   "metadata": {},
   "outputs": [],
   "source": [
    "from typing import Generic, Optional, Tuple, List, Callable, Iterable, Mapping\n",
    "\n",
    "import numpy as np\n",
    "from torchvision.models import resnet50\n",
    "import torch\n",
    "import torch.nn as nn\n",
    "import torch.nn.functional as F\n",
    "import torchvision.transforms as T\n",
    "import utils\n",
    "from utils import debugt, debugs, debug\n",
    "\n",
    "torch.hub.set_dir('torch_cache')\n",
    "import fishdetr_batchboy as detr\n",
    "import contextlib\n",
    "from generators import TorchStereoDataset\n",
    "import re\n",
    "from matplotlib import pyplot as plt\n",
    "import plotly.express as px\n",
    "\n",
    "import sys\n",
    "sys.path.append('./detr_custom/')\n",
    "from models.matcher import HungarianMatcher\n",
    "from models.detr import SetCriterion\n",
    "import os"
   ]
  },
  {
   "cell_type": "code",
   "execution_count": 2,
   "metadata": {},
   "outputs": [],
   "source": [
    "debugt = utils.reloader(debugt)"
   ]
  },
  {
   "cell_type": "code",
   "execution_count": 3,
   "metadata": {},
   "outputs": [
    {
     "name": "stdout",
     "output_type": "stream",
     "text": [
      "Using device: cuda:1 (GeForce RTX 2080 Ti)\n",
      "GeForce RTX 2080 Ti \n",
      "Memory usage:\n",
      "Allocated: 0.0 GB\n",
      "Cached   : 0.0 GB\n"
     ]
    }
   ],
   "source": [
    "utils.seed_everything(42069)\n",
    "\n",
    "try:\n",
    "    device = utils.pytorch_init_janus_gpu()\n",
    "    print(f'Using device: {device} ({torch.cuda.get_device_name()})')\n",
    "    print(utils.get_cuda_status(device))\n",
    "except AssertionError as e:\n",
    "    print('GPU could not initialize, got error:', e)\n",
    "    device = torch.device('cpu')\n",
    "    print('Device is set to CPU')"
   ]
  },
  {
   "cell_type": "code",
   "execution_count": 4,
   "metadata": {},
   "outputs": [],
   "source": [
    "DATA_DIR = '/mnt/blendervol/leftright_left_data'\n",
    "TABLE = 'bboxes_std'\n",
    "BATCH_SIZE = 4"
   ]
  },
  {
   "cell_type": "code",
   "execution_count": 5,
   "metadata": {
    "scrolled": false
   },
   "outputs": [],
   "source": [
    "traingen = TorchStereoDataset(DATA_DIR, TABLE, shuffle=False, imgnrs=range(32,32+BATCH_SIZE))\n",
    "\n",
    "loader = torch.utils.data.DataLoader(\n",
    "    traingen,\n",
    "    batch_size=BATCH_SIZE,\n",
    "    collate_fn=detr.collate\n",
    ")\n",
    "\n",
    "X, y = next(iter(loader))\n",
    "X, y = detr.preprocess(X, y, device)"
   ]
  },
  {
   "cell_type": "code",
   "execution_count": 6,
   "metadata": {},
   "outputs": [
    {
     "name": "stdout",
     "output_type": "stream",
     "text": [
      "\u001b[32;2m(1, <module>)\u001b[0m \u001b[2mX[0]:\u001b[0m torch.Size([4, 3, 416, 416])\n"
     ]
    }
   ],
   "source": [
    "debugs(X[0])"
   ]
  },
  {
   "cell_type": "code",
   "execution_count": 35,
   "metadata": {},
   "outputs": [
    {
     "name": "stdout",
     "output_type": "stream",
     "text": [
      "Encoder successfully loaded with pretrained weights\n"
     ]
    }
   ],
   "source": [
    "model = detr.FishDETR(freeze_encoder=False).to(device)"
   ]
  },
  {
   "cell_type": "code",
   "execution_count": 36,
   "metadata": {
    "scrolled": false
   },
   "outputs": [
    {
     "name": "stdout",
     "output_type": "stream",
     "text": [
      "Loss:  0.10123876482248306\n"
     ]
    }
   ],
   "source": [
    "@utils.interruptable\n",
    "def train(model: nn.Module, X: detr.StereoImgs, y: detr.DETROutput, epochs: int=1):    \n",
    "    weight_dict = {'loss_ce': 1, 'loss_bbox': 1 , 'loss_giou': 1}\n",
    "    losses = ['labels', 'boxes', 'cardinality']\n",
    "    matcher = HungarianMatcher()\n",
    "    criterion = SetCriterion(6, matcher, weight_dict, 0.5, losses).to(device)\n",
    "    optimizer = torch.optim.AdamW(model.parameters(), lr=1e-4)\n",
    "    scheduler = torch.optim.lr_scheduler.StepLR(optimizer, step_size=150, gamma=0.5, verbose=False)\n",
    "    \n",
    "    model.train()\n",
    "    criterion.train()\n",
    "    \n",
    "    for epoch in range(1,epochs+1):\n",
    "        output, loss = model.train_on_batch(X, y, criterion, optimizer)\n",
    "        scheduler.step()\n",
    "        loss: torch.Tensor\n",
    "        if not epoch % 10:\n",
    "            print(loss.item())\n",
    "    return output\n",
    "\n",
    "\n",
    "def load_and_pred(model: nn.Module, X: detr.StereoImgs, y: detr.DETROutput):\n",
    "    model.load_state_dict(torch.load('batch_overfit.pth'))\n",
    "    weight_dict = {'loss_ce': 1, 'loss_bbox': 1 , 'loss_giou': 1}\n",
    "    losses = ['labels', 'boxes', 'cardinality']\n",
    "    matcher = HungarianMatcher()\n",
    "    criterion = SetCriterion(6, matcher, weight_dict, 0.5, losses).to(device)\n",
    "    output, loss = model.eval_on_batch(X, y, criterion, True)\n",
    "    print(\"Loss: \", loss.item())\n",
    "    return output\n",
    "    \n",
    "# output = train(model, X, y, 200)\n",
    "output = load_and_pred(model, X, y)"
   ]
  },
  {
   "cell_type": "code",
   "execution_count": 37,
   "metadata": {},
   "outputs": [],
   "source": [
    "# utils.save_model(model.state_dict(), 'batch_overfit.pth')"
   ]
  },
  {
   "cell_type": "code",
   "execution_count": 38,
   "metadata": {},
   "outputs": [],
   "source": [
    "num2name = eval(open(os.path.join(DATA_DIR,\"metadata.txt\"), 'r').read())"
   ]
  },
  {
   "cell_type": "code",
   "execution_count": 42,
   "metadata": {
    "scrolled": false
   },
   "outputs": [
    {
     "name": "stdout",
     "output_type": "stream",
     "text": [
      "Encoder successfully loaded with pretrained weights\n",
      "Loss:  0.10123876482248306\n"
     ]
    },
    {
     "data": {
      "image/png": "[encoded data removed]",
      "text/plain": [
       "<Figure size 288x576 with 2 Axes>"
      ]
     },
     "metadata": {
      "needs_background": "light"
     },
     "output_type": "display_data"
    }
   ],
   "source": [
    "utils.reloader(detr)\n",
    "utils.reloader(utils)\n",
    "model = detr.FishDETR(freeze_encoder=False).to(device)\n",
    "output = load_and_pred(model, X, y)\n",
    "model.forward_and_plot(X, y, figsize=(4,8), classmap=num2name)"
   ]
  },
  {
   "cell_type": "markdown",
   "metadata": {},
   "source": [
    "<br/>\n",
    "<br/>\n",
    "<br/>\n",
    "<br/>\n",
    "<br/>\n",
    "<br/>\n",
    "<br/>\n",
    "<br/>\n",
    "<br/>\n",
    "<br/>\n",
    "<br/>\n",
    "<br/>\n",
    "<br/>\n",
    "<br/>\n",
    "<br/>\n",
    "<br/>\n",
    "<br/>\n",
    "<br/>\n",
    "<br/>\n",
    "<br/>\n",
    "<br/>\n",
    "<br/>\n",
    "<br/>\n",
    "<br/>\n",
    "<br/>\n",
    "<br/>\n",
    "<br/>\n",
    "<br/>\n",
    "<br/>\n",
    "<br/>\n",
    "<br/>\n",
    "<br/>\n",
    "<br/>\n",
    "<br/>\n",
    "<br/>\n",
    "<br/>\n",
    "<br/>\n",
    "<br/>\n",
    "<br/>\n",
    "<br/>\n",
    "<br/>\n",
    "<br/>\n",
    "<br/>\n",
    "<br/>\n",
    "<br/>\n",
    "<br/>\n",
    "<br/>\n",
    "<br/>\n",
    "<br/>\n",
    "<br/>\n",
    "<br/>\n",
    "<br/>\n",
    "<br/>\n",
    "<br/>\n",
    "<br/>\n",
    "<br/>\n",
    "<br/>\n",
    "<br/>\n",
    "<br/>\n",
    "<br/>\n",
    "<br/>\n",
    "<br/>"
   ]
  },
  {
   "cell_type": "code",
   "execution_count": 13,
   "metadata": {},
   "outputs": [
    {
     "ename": "ValueError",
     "evalue": "",
     "output_type": "error",
     "traceback": [
      "\u001b[0;31m---------------------------------------------------------------------------\u001b[0m",
      "\u001b[0;31mValueError\u001b[0m                                Traceback (most recent call last)",
      "\u001b[0;32m<ipython-input-13-e4c8e09828d5>\u001b[0m in \u001b[0;36m<module>\u001b[0;34m\u001b[0m\n\u001b[0;32m----> 1\u001b[0;31m \u001b[0;32mraise\u001b[0m \u001b[0mValueError\u001b[0m\u001b[0;34m\u001b[0m\u001b[0;34m\u001b[0m\u001b[0m\n\u001b[0m",
      "\u001b[0;31mValueError\u001b[0m: "
     ]
    }
   ],
   "source": [
    "raise ValueError"
   ]
  },
  {
   "cell_type": "code",
   "execution_count": null,
   "metadata": {
    "scrolled": false
   },
   "outputs": [],
   "source": [
    "def box_cxcywh_to_xyxy(x: torch.Tensor):\n",
    "    x_c, y_c, w, h = x.unbind(1)\n",
    "    b = [(x_c - 0.5 * w), (y_c - 0.5 * h),\n",
    "         (x_c + 0.5 * w), (y_c + 0.5 * h)]\n",
    "    return torch.stack(b, dim=1)\n",
    "\n",
    "\n",
    "def plot_results(img, classes: Iterable, boxes: Iterable, classmap: Optional[Mapping[int, str]]=None, ax: Optional=None):\n",
    "    if ax is None:\n",
    "        fig, ax = plt.subplots(figsize=(16,10))\n",
    "        \n",
    "    img = np.array(img)\n",
    "    ax.imshow(img.clip(0,1))\n",
    "    \n",
    "    if len(boxes) != 0:\n",
    "        h, w = img.shape[:2]\n",
    "        boxes = box_cxcywh_to_xyxy(boxes)\n",
    "        boxes[:,[0,2]] *= w\n",
    "        boxes[:,[1,3]] *= h\n",
    "        \n",
    "        for cls, (xmin, ymin, xmax, ymax) in zip(classes, boxes):\n",
    "            ax.add_patch(plt.Rectangle((xmin, ymin), xmax - xmin, ymax - ymin,\n",
    "                                       fill=False, color='cyan', linewidth=3))\n",
    "            try:\n",
    "                strcls = classmap[int(cls)]\n",
    "            except:\n",
    "                strcls = str(int(cls))\n",
    "                    \n",
    "            ax.text(xmin, ymin, strcls, fontsize=11, bbox=dict(facecolor='cyan', alpha=0.9))\n",
    "    \n",
    "    if ax is None:\n",
    "        ax.axis('off')\n",
    "        plt.show()\n",
    "        \n",
    "    return ax\n",
    "\n",
    "\n",
    "@torch.no_grad()\n",
    "def eval_model(model, X: Tuple[torch.Tensor, torch.Tensor], classmap: Optional[Mapping[int, str]]=None, ax: Optional=None):\n",
    "    model.eval()\n",
    "    \n",
    "    output = model(X)\n",
    "    boxes = output['pred_boxes'][0]\n",
    "    logits = output['pred_logits'][0]\n",
    "\n",
    "    logits_, boxes_ = detr.postprocess(logits, boxes, thresh=0.1)\n",
    "\n",
    "    plot_results(img[0][0].cpu().numpy().transpose((1,2,0)), logits_, boxes_, classmap, ax=ax)\n",
    "        \n",
    "        \n",
    "def eval_compare_model(model: nn.Module, gen: Iterable, index: int=0, classmap: Optional[Mapping[int, str]]=None):\n",
    "    x, y = gen[index]\n",
    "    fig, axes = plt.subplots(1,2,figsize=(15,7))\n",
    "    eval_model(model, detr.img_handler([x])[0], classmap, axes[0])\n",
    "    plot_results(x[0][0].cpu().numpy().transpose((1,2,0)), y['labels'], y['boxes'], classmap, axes[1])\n",
    "    axes[0].set_title('Predicted')\n",
    "    axes[1].set_title('Real')\n",
    "    \n",
    "\n",
    "num2name = eval(open(os.path.join(DATA_DIR,\"metadata.txt\"), 'r').read())\n",
    "model.eval()\n",
    "for i in range(BATCH_SIZE):\n",
    "    eval_compare_model(model, traingen, index=i, classmap=num2name)\n",
    "    plt.show()\n",
    "    "
   ]
  }
 ],
 "metadata": {
  "kernelspec": {
   "display_name": "Python 3",
   "language": "python",
   "name": "python3"
  },
  "language_info": {
   "codemirror_mode": {
    "name": "ipython",
    "version": 3
   },
   "file_extension": ".py",
   "mimetype": "text/x-python",
   "name": "python",
   "nbconvert_exporter": "python",
   "pygments_lexer": "ipython3",
   "version": "3.8.5"
  }
 },
 "nbformat": 4,
 "nbformat_minor": 4
}
