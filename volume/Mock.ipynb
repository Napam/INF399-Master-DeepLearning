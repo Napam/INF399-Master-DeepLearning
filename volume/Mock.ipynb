{
 "cells": [
  {
   "cell_type": "code",
   "execution_count": 1,
   "metadata": {},
   "outputs": [],
   "source": [
    "import generators\n",
    "from matplotlib import pyplot as plt \n",
    "import torch\n",
    "import torch.nn.functional as F\n",
    "from torch import nn\n",
    "import numpy as np\n",
    "import pandas as pd \n",
    "from importlib import reload"
   ]
  },
  {
   "cell_type": "code",
   "execution_count": 7,
   "metadata": {},
   "outputs": [],
   "source": [
    "X = torch.cat([\n",
    "    torch.randn((1, 16, 32))*0.5+3,\n",
    "    torch.randn((1, 16, 32))*0.5+3,\n",
    "    torch.randn((1, 16, 32))*0.1-2,\n",
    "    torch.randn((1, 16, 32))*0.1-2,\n",
    "    torch.randn((1, 16, 32))*0.2-0,\n",
    "    torch.randn((1, 16, 32))*0.2-0,\n",
    "])\n",
    "X_val = torch.cat([\n",
    "    torch.randn((1, 16, 32))*0.5+3.5,\n",
    "    torch.randn((1, 16, 32))*0.5+3.5,\n",
    "    torch.randn((1, 16, 32))*0.1-1.5,\n",
    "    torch.randn((1, 16, 32))*0.1-1.5,\n",
    "    torch.randn((1, 16, 32))*0.2-0,\n",
    "    torch.randn((1, 16, 32))*0.2-0,\n",
    "])\n",
    "y = torch.tensor([0, 0, 1, 1, 2, 2])"
   ]
  },
  {
   "cell_type": "code",
   "execution_count": 3,
   "metadata": {},
   "outputs": [],
   "source": [
    "model = nn.Sequential(\n",
    "    nn.Linear(16*32, 128),\n",
    "    nn.ReLU(inplace=True),\n",
    "    nn.Linear(128,3)\n",
    ")"
   ]
  },
  {
   "cell_type": "code",
   "execution_count": 4,
   "metadata": {},
   "outputs": [],
   "source": [
    "def train_model(model, X, y):\n",
    "    # Full batch gradient descent\n",
    "    loss_fn = torch.nn.CrossEntropyLoss()\n",
    "    optimizer = torch.optim.AdamW(model.parameters(), lr=2e-5)\n",
    "    for i in range(1000):\n",
    "        output = model(X.view(len(X), -1))\n",
    "        loss = loss_fn(output, y)\n",
    "        optimizer.zero_grad()\n",
    "        loss.backward()\n",
    "        optimizer.step()\n",
    "        \n",
    "train_model(model, X, y)"
   ]
  },
  {
   "cell_type": "code",
   "execution_count": 5,
   "metadata": {},
   "outputs": [
    {
     "data": {
      "text/plain": [
       "tensor([0, 0, 1, 1, 2, 2])"
      ]
     },
     "execution_count": 5,
     "metadata": {},
     "output_type": "execute_result"
    }
   ],
   "source": [
    "F.log_softmax(model(X.view(len(X),-1)), dim=1).argmax(1)"
   ]
  },
  {
   "cell_type": "code",
   "execution_count": 8,
   "metadata": {},
   "outputs": [
    {
     "data": {
      "text/plain": [
       "tensor([0, 0, 1, 1, 2, 2])"
      ]
     },
     "execution_count": 8,
     "metadata": {},
     "output_type": "execute_result"
    }
   ],
   "source": [
    "F.log_softmax(model(X_val.view(len(X),-1)), dim=1).argmax(1)"
   ]
  },
  {
   "cell_type": "code",
   "execution_count": 17,
   "metadata": {},
   "outputs": [
    {
     "ename": "SyntaxError",
     "evalue": "invalid syntax (<ipython-input-17-ef1741fdf473>, line 3)",
     "output_type": "error",
     "traceback": [
      "\u001b[0;36m  File \u001b[0;32m\"<ipython-input-17-ef1741fdf473>\"\u001b[0;36m, line \u001b[0;32m3\u001b[0m\n\u001b[0;31m    a.keys().and()\u001b[0m\n\u001b[0m             ^\u001b[0m\n\u001b[0;31mSyntaxError\u001b[0m\u001b[0;31m:\u001b[0m invalid syntax\n"
     ]
    }
   ],
   "source": [
    "a = {'a':1, 'b':1, 'c':1}\n",
    "b = {'a':2, 'b':2, 'd':2}"
   ]
  },
  {
   "cell_type": "code",
   "execution_count": 23,
   "metadata": {},
   "outputs": [],
   "source": [
    "def dict_union_update(a: dict, b: dict):\n",
    "    '''Updates \"a\" with the union of \"a\" and \"b\"'''\n",
    "    a.update({key:b.get(key, a.get(key)) for key in a.keys() & b.keys()})"
   ]
  },
  {
   "cell_type": "code",
   "execution_count": 24,
   "metadata": {},
   "outputs": [],
   "source": [
    "dict_union_update(a, b)"
   ]
  },
  {
   "cell_type": "code",
   "execution_count": 25,
   "metadata": {},
   "outputs": [
    {
     "data": {
      "text/plain": [
       "{'a': 2, 'b': 2, 'c': 1}"
      ]
     },
     "execution_count": 25,
     "metadata": {},
     "output_type": "execute_result"
    }
   ],
   "source": [
    "a"
   ]
  }
 ],
 "metadata": {
  "kernelspec": {
   "display_name": "Python 3",
   "language": "python",
   "name": "python3"
  },
  "language_info": {
   "codemirror_mode": {
    "name": "ipython",
    "version": 3
   },
   "file_extension": ".py",
   "mimetype": "text/x-python",
   "name": "python",
   "nbconvert_exporter": "python",
   "pygments_lexer": "ipython3",
   "version": "3.8.3"
  }
 },
 "nbformat": 4,
 "nbformat_minor": 4
}
