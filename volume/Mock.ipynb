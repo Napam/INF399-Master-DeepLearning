{
 "cells": [
  {
   "cell_type": "code",
   "execution_count": 53,
   "metadata": {},
   "outputs": [],
   "source": [
    "import generators\n",
    "from matplotlib import pyplot as plt \n",
    "import torch\n",
    "import torch.nn.functional as F\n",
    "from torch import nn\n",
    "import numpy as np\n",
    "import pandas as pd \n",
    "from importlib import reload\n",
    "reload(generators)\n",
    "None\n",
    "from typing import List, Tuple\n",
    "from torch.utils.data import Dataset, DataLoader\n",
    "import torch\n",
    "import torch.nn as nn\n",
    "import torch.nn.functional as F\n",
    "from torch.utils.data import Dataset, DataLoader\n",
    "from torch.utils.data.sampler import SequentialSampler, RandomSampler\n",
    "import torchvision.transforms as T\n",
    "from scipy.optimize import linear_sum_assignment"
   ]
  },
  {
   "cell_type": "code",
   "execution_count": 64,
   "metadata": {},
   "outputs": [],
   "source": [
    "X = torch.tensor([\n",
    "    [1,1,0,0], # 0\n",
    "    [1,1,1,0], # 0\n",
    "    [0,0,0,1], # 1\n",
    "    [0,1,1,1], # 1\n",
    "    [1,0,0,0], # 0\n",
    "    [1,0,1,0], # 0\n",
    "    [1,0,0,0], # 0\n",
    "    [0,1,0,1], # 1\n",
    "], dtype=torch.float32)\n",
    "\n",
    "y = torch.tensor([0,0,1,1,0,0,0,1], dtype=torch.float32).reshape(-1,1)\n",
    "\n",
    "# W = torch.randn(4,1)*100\n",
    "W = torch.tensor([0,0,0,1], dtype=torch.float32).reshape(-1,1)\n",
    "W.requires_grad = True"
   ]
  },
  {
   "cell_type": "code",
   "execution_count": 76,
   "metadata": {},
   "outputs": [],
   "source": [
    "criterion = nn.MSELoss()\n",
    "optimizer = torch.optim.SGD(params=[W], lr=0.00001)"
   ]
  },
  {
   "cell_type": "code",
   "execution_count": 77,
   "metadata": {},
   "outputs": [
    {
     "data": {
      "text/plain": [
       "tensor([[-3.0070e-04],\n",
       "        [ 6.2413e-04],\n",
       "        [ 4.4616e-05],\n",
       "        [ 9.9917e-01]], requires_grad=True)"
      ]
     },
     "execution_count": 77,
     "metadata": {},
     "output_type": "execute_result"
    }
   ],
   "source": [
    "W"
   ]
  },
  {
   "cell_type": "code",
   "execution_count": 78,
   "metadata": {},
   "outputs": [
    {
     "name": "stdout",
     "output_type": "stream",
     "text": [
      "tensor(1.4984e-07, grad_fn=<MseLossBackward>)\n",
      "tensor([[ 2.9510e-04],\n",
      "        [ 3.5424e-04],\n",
      "        [ 9.9917e-01],\n",
      "        [ 9.9979e-01],\n",
      "        [-2.6820e-04],\n",
      "        [-2.0907e-04],\n",
      "        [-2.6820e-04],\n",
      "        [ 9.9974e-01]])\n",
      "tensor([[0.],\n",
      "        [0.],\n",
      "        [1.],\n",
      "        [1.],\n",
      "        [0.],\n",
      "        [0.],\n",
      "        [0.],\n",
      "        [1.]])\n"
     ]
    }
   ],
   "source": [
    "for epoch in range(100000):\n",
    "    pred = X@W\n",
    "    loss = criterion(pred, y)\n",
    "    optimizer.zero_grad()\n",
    "    loss.backward()\n",
    "    optimizer.step()\n",
    "print(loss)\n",
    "    \n",
    "    \n",
    "with torch.no_grad():\n",
    "    print(X@W)\n",
    "    print((X@W).round().abs())"
   ]
  }
 ],
 "metadata": {
  "kernelspec": {
   "display_name": "Python 3",
   "language": "python",
   "name": "python3"
  },
  "language_info": {
   "codemirror_mode": {
    "name": "ipython",
    "version": 3
   },
   "file_extension": ".py",
   "mimetype": "text/x-python",
   "name": "python",
   "nbconvert_exporter": "python",
   "pygments_lexer": "ipython3",
   "version": "3.8.3"
  }
 },
 "nbformat": 4,
 "nbformat_minor": 4
}
